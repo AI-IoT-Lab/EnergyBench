{
 "cells": [
  {
   "cell_type": "code",
   "execution_count": 1,
   "id": "c51cb8b1-d247-4cdd-8d6a-483792b1e0cd",
   "metadata": {},
   "outputs": [],
   "source": [
    "from sklearn.metrics import mean_absolute_percentage_error\n",
    "from sklearn.metrics import mean_absolute_error\n",
    "from sklearn.metrics import mean_squared_error\n",
    "from sklearn.metrics import mean_squared_log_error\n",
    "import glob, os\n",
    "import pandas as pd\n",
    "from sklearn.metrics import root_mean_squared_error\n",
    "from sklearn.metrics import root_mean_squared_log_error\n",
    "from permetrics.regression import RegressionMetric"
   ]
  },
  {
   "cell_type": "code",
   "execution_count": 2,
   "id": "ae46effb-c9ec-4dcc-b876-ffa4e0987bff",
   "metadata": {
    "scrolled": true
   },
   "outputs": [
    {
     "data": {
      "text/plain": [
       "['Results/timesfm/forecasts/GoiEner/Goiner-1H-18_1.csv',\n",
       " 'Results/timesfm/forecasts/GoiEner/Goiner-1H-20_1.csv',\n",
       " 'Results/timesfm/forecasts/GoiEner/Goiner-1H-3_1.csv',\n",
       " 'Results/timesfm/forecasts/GoiEner/Goiner-1H-24_2.csv',\n",
       " 'Results/timesfm/forecasts/GoiEner/Goiner-1H-8_1.csv',\n",
       " 'Results/timesfm/forecasts/GoiEner/Goiner-1H-4_2.csv',\n",
       " 'Results/timesfm/forecasts/GoiEner/Goiner-1H-17_1.csv',\n",
       " 'Results/timesfm/forecasts/GoiEner/Goiner-1H-8_2.csv',\n",
       " 'Results/timesfm/forecasts/GoiEner/Goiner-1H-13_1.csv',\n",
       " 'Results/timesfm/forecasts/GoiEner/Goiner-1H-23_2.csv',\n",
       " 'Results/timesfm/forecasts/GoiEner/Goiner-1H-10_2.csv',\n",
       " 'Results/timesfm/forecasts/GoiEner/Goiner-1H-1_2.csv',\n",
       " 'Results/timesfm/forecasts/GoiEner/Goiner-1H-21_2.csv',\n",
       " 'Results/timesfm/forecasts/GoiEner/Goiner-1H-26_1.csv',\n",
       " 'Results/timesfm/forecasts/GoiEner/Goiner-1H-4_1.csv',\n",
       " 'Results/timesfm/forecasts/GoiEner/Goiner-1H-20_2.csv',\n",
       " 'Results/timesfm/forecasts/GoiEner/Goiner-1H-22_2.csv',\n",
       " 'Results/timesfm/forecasts/GoiEner/Goiner-1H-2_1.csv',\n",
       " 'Results/timesfm/forecasts/GoiEner/Goiner-1H-13_2.csv',\n",
       " 'Results/timesfm/forecasts/GoiEner/Goiner-1H-23_1.csv',\n",
       " 'Results/timesfm/forecasts/GoiEner/Goiner-1H-12_2.csv',\n",
       " 'Results/timesfm/forecasts/GoiEner/Goiner-1H-10_1.csv',\n",
       " 'Results/timesfm/forecasts/GoiEner/Goiner-1H-6_2.csv',\n",
       " 'Results/timesfm/forecasts/GoiEner/Goiner-1H-17_2.csv',\n",
       " 'Results/timesfm/forecasts/GoiEner/Goiner-1H-18_2.csv',\n",
       " 'Results/timesfm/forecasts/GoiEner/Goiner-1H-3_2.csv',\n",
       " 'Results/timesfm/forecasts/GoiEner/Goiner-1H-14_1.csv',\n",
       " 'Results/timesfm/forecasts/GoiEner/Goiner-1H-15_2.csv',\n",
       " 'Results/timesfm/forecasts/GoiEner/Goiner-1H-15_1.csv',\n",
       " 'Results/timesfm/forecasts/GoiEner/Goiner-1H-26_2.csv',\n",
       " 'Results/timesfm/forecasts/GoiEner/Goiner-1H-24_1.csv',\n",
       " 'Results/timesfm/forecasts/GoiEner/Goiner-1H-5_1.csv',\n",
       " 'Results/timesfm/forecasts/GoiEner/Goiner-1H-25_1.csv',\n",
       " 'Results/timesfm/forecasts/GoiEner/Goiner-1H-22_1.csv',\n",
       " 'Results/timesfm/forecasts/GoiEner/Goiner-1H-2_2.csv',\n",
       " 'Results/timesfm/forecasts/GoiEner/Goiner-1H-25_2.csv',\n",
       " 'Results/timesfm/forecasts/GoiEner/Goiner-1H-9_2.csv',\n",
       " 'Results/timesfm/forecasts/GoiEner/Goiner-1H-14_2.csv',\n",
       " 'Results/timesfm/forecasts/GoiEner/Goiner-1H-6_1.csv',\n",
       " 'Results/timesfm/forecasts/GoiEner/Goiner-1H-16_2.csv',\n",
       " 'Results/timesfm/forecasts/GoiEner/Goiner-1H-19_1.csv',\n",
       " 'Results/timesfm/forecasts/GoiEner/Goiner-1H-19_2.csv',\n",
       " 'Results/timesfm/forecasts/GoiEner/Goiner-1H-16_1.csv',\n",
       " 'Results/timesfm/forecasts/GoiEner/Goiner-1H-11_1.csv',\n",
       " 'Results/timesfm/forecasts/GoiEner/Goiner-1H-1_1.csv',\n",
       " 'Results/timesfm/forecasts/GoiEner/Goiner-1H-7_1.csv',\n",
       " 'Results/timesfm/forecasts/GoiEner/Goiner-1H-12_1.csv',\n",
       " 'Results/timesfm/forecasts/GoiEner/Goiner-1H-11_2.csv',\n",
       " 'Results/timesfm/forecasts/GoiEner/Goiner-1H-7_2.csv',\n",
       " 'Results/timesfm/forecasts/GoiEner/Goiner-1H-9_1.csv',\n",
       " 'Results/timesfm/forecasts/GoiEner/Goiner-1H-21_1.csv',\n",
       " 'Results/timesfm/forecasts/GoiEner/Goiner-1H-5_2.csv']"
      ]
     },
     "execution_count": 2,
     "metadata": {},
     "output_type": "execute_result"
    }
   ],
   "source": [
    "dataset = 'GoiEner'\n",
    "files_list = glob.glob(f'Results/timesfm/forecasts/{dataset}/*.csv')\n",
    "files_list"
   ]
  },
  {
   "cell_type": "code",
   "execution_count": 3,
   "id": "11b4e761-027c-439f-a35f-97addceedee6",
   "metadata": {
    "scrolled": true
   },
   "outputs": [
    {
     "name": "stderr",
     "output_type": "stream",
     "text": [
      "/tmp/ipykernel_309421/3381436898.py:19: RuntimeWarning: divide by zero encountered in scalar divide\n",
      "  nrmse = rmse / (data.y_true.mean())\n",
      "/tmp/ipykernel_309421/3381436898.py:19: RuntimeWarning: divide by zero encountered in scalar divide\n",
      "  nrmse = rmse / (data.y_true.mean())\n",
      "/tmp/ipykernel_309421/3381436898.py:19: RuntimeWarning: divide by zero encountered in scalar divide\n",
      "  nrmse = rmse / (data.y_true.mean())\n"
     ]
    },
    {
     "name": "stdout",
     "output_type": "stream",
     "text": [
      "Results/timesfm/forecasts/GoiEner/Goiner-1H-18_1.csv Done\n"
     ]
    },
    {
     "name": "stderr",
     "output_type": "stream",
     "text": [
      "/tmp/ipykernel_309421/3381436898.py:19: RuntimeWarning: divide by zero encountered in scalar divide\n",
      "  nrmse = rmse / (data.y_true.mean())\n",
      "/tmp/ipykernel_309421/3381436898.py:19: RuntimeWarning: divide by zero encountered in scalar divide\n",
      "  nrmse = rmse / (data.y_true.mean())\n",
      "/tmp/ipykernel_309421/3381436898.py:19: RuntimeWarning: divide by zero encountered in scalar divide\n",
      "  nrmse = rmse / (data.y_true.mean())\n",
      "/tmp/ipykernel_309421/3381436898.py:19: RuntimeWarning: divide by zero encountered in scalar divide\n",
      "  nrmse = rmse / (data.y_true.mean())\n"
     ]
    },
    {
     "name": "stdout",
     "output_type": "stream",
     "text": [
      "Results/timesfm/forecasts/GoiEner/Goiner-1H-20_1.csv Done\n"
     ]
    },
    {
     "name": "stderr",
     "output_type": "stream",
     "text": [
      "/tmp/ipykernel_309421/3381436898.py:19: RuntimeWarning: divide by zero encountered in scalar divide\n",
      "  nrmse = rmse / (data.y_true.mean())\n",
      "/tmp/ipykernel_309421/3381436898.py:19: RuntimeWarning: divide by zero encountered in scalar divide\n",
      "  nrmse = rmse / (data.y_true.mean())\n"
     ]
    },
    {
     "name": "stdout",
     "output_type": "stream",
     "text": [
      "Results/timesfm/forecasts/GoiEner/Goiner-1H-3_1.csv Done\n"
     ]
    },
    {
     "name": "stderr",
     "output_type": "stream",
     "text": [
      "/tmp/ipykernel_309421/3381436898.py:19: RuntimeWarning: divide by zero encountered in scalar divide\n",
      "  nrmse = rmse / (data.y_true.mean())\n",
      "/tmp/ipykernel_309421/3381436898.py:19: RuntimeWarning: divide by zero encountered in scalar divide\n",
      "  nrmse = rmse / (data.y_true.mean())\n",
      "/tmp/ipykernel_309421/3381436898.py:19: RuntimeWarning: divide by zero encountered in scalar divide\n",
      "  nrmse = rmse / (data.y_true.mean())\n",
      "/tmp/ipykernel_309421/3381436898.py:19: RuntimeWarning: divide by zero encountered in scalar divide\n",
      "  nrmse = rmse / (data.y_true.mean())\n"
     ]
    },
    {
     "name": "stdout",
     "output_type": "stream",
     "text": [
      "Results/timesfm/forecasts/GoiEner/Goiner-1H-24_2.csv Done\n"
     ]
    },
    {
     "name": "stderr",
     "output_type": "stream",
     "text": [
      "/tmp/ipykernel_309421/3381436898.py:19: RuntimeWarning: divide by zero encountered in scalar divide\n",
      "  nrmse = rmse / (data.y_true.mean())\n",
      "/home/ai-iot-2/anaconda3/envs/tfm_env/lib/python3.10/site-packages/permetrics/regression.py:357: RuntimeWarning: invalid value encountered in divide\n",
      "  result = np.mean(np.abs(y_pred - y_true) / (np.abs(y_true) + np.abs(y_pred)), axis=0)\n",
      "/tmp/ipykernel_309421/3381436898.py:19: RuntimeWarning: divide by zero encountered in scalar divide\n",
      "  nrmse = rmse / (data.y_true.mean())\n",
      "/tmp/ipykernel_309421/3381436898.py:19: RuntimeWarning: divide by zero encountered in scalar divide\n",
      "  nrmse = rmse / (data.y_true.mean())\n",
      "/tmp/ipykernel_309421/3381436898.py:19: RuntimeWarning: divide by zero encountered in scalar divide\n",
      "  nrmse = rmse / (data.y_true.mean())\n"
     ]
    },
    {
     "name": "stdout",
     "output_type": "stream",
     "text": [
      "Results/timesfm/forecasts/GoiEner/Goiner-1H-8_1.csv Done\n"
     ]
    },
    {
     "name": "stderr",
     "output_type": "stream",
     "text": [
      "/tmp/ipykernel_309421/3381436898.py:19: RuntimeWarning: divide by zero encountered in scalar divide\n",
      "  nrmse = rmse / (data.y_true.mean())\n"
     ]
    },
    {
     "name": "stdout",
     "output_type": "stream",
     "text": [
      "Results/timesfm/forecasts/GoiEner/Goiner-1H-4_2.csv Done\n"
     ]
    },
    {
     "name": "stderr",
     "output_type": "stream",
     "text": [
      "/home/ai-iot-2/anaconda3/envs/tfm_env/lib/python3.10/site-packages/permetrics/regression.py:357: RuntimeWarning: invalid value encountered in divide\n",
      "  result = np.mean(np.abs(y_pred - y_true) / (np.abs(y_true) + np.abs(y_pred)), axis=0)\n",
      "/tmp/ipykernel_309421/3381436898.py:19: RuntimeWarning: divide by zero encountered in scalar divide\n",
      "  nrmse = rmse / (data.y_true.mean())\n"
     ]
    },
    {
     "name": "stdout",
     "output_type": "stream",
     "text": [
      "Results/timesfm/forecasts/GoiEner/Goiner-1H-17_1.csv Done\n"
     ]
    },
    {
     "name": "stderr",
     "output_type": "stream",
     "text": [
      "/tmp/ipykernel_309421/3381436898.py:19: RuntimeWarning: divide by zero encountered in scalar divide\n",
      "  nrmse = rmse / (data.y_true.mean())\n",
      "/tmp/ipykernel_309421/3381436898.py:19: RuntimeWarning: divide by zero encountered in scalar divide\n",
      "  nrmse = rmse / (data.y_true.mean())\n"
     ]
    },
    {
     "name": "stdout",
     "output_type": "stream",
     "text": [
      "Results/timesfm/forecasts/GoiEner/Goiner-1H-8_2.csv Done\n"
     ]
    },
    {
     "name": "stderr",
     "output_type": "stream",
     "text": [
      "/tmp/ipykernel_309421/3381436898.py:19: RuntimeWarning: divide by zero encountered in scalar divide\n",
      "  nrmse = rmse / (data.y_true.mean())\n",
      "/tmp/ipykernel_309421/3381436898.py:19: RuntimeWarning: divide by zero encountered in scalar divide\n",
      "  nrmse = rmse / (data.y_true.mean())\n",
      "/tmp/ipykernel_309421/3381436898.py:19: RuntimeWarning: divide by zero encountered in scalar divide\n",
      "  nrmse = rmse / (data.y_true.mean())\n",
      "/tmp/ipykernel_309421/3381436898.py:19: RuntimeWarning: divide by zero encountered in scalar divide\n",
      "  nrmse = rmse / (data.y_true.mean())\n"
     ]
    },
    {
     "name": "stdout",
     "output_type": "stream",
     "text": [
      "Results/timesfm/forecasts/GoiEner/Goiner-1H-13_1.csv Done\n"
     ]
    },
    {
     "name": "stderr",
     "output_type": "stream",
     "text": [
      "/tmp/ipykernel_309421/3381436898.py:19: RuntimeWarning: divide by zero encountered in scalar divide\n",
      "  nrmse = rmse / (data.y_true.mean())\n",
      "/tmp/ipykernel_309421/3381436898.py:19: RuntimeWarning: divide by zero encountered in scalar divide\n",
      "  nrmse = rmse / (data.y_true.mean())\n",
      "/tmp/ipykernel_309421/3381436898.py:19: RuntimeWarning: divide by zero encountered in scalar divide\n",
      "  nrmse = rmse / (data.y_true.mean())\n"
     ]
    },
    {
     "name": "stdout",
     "output_type": "stream",
     "text": [
      "Results/timesfm/forecasts/GoiEner/Goiner-1H-23_2.csv Done\n"
     ]
    },
    {
     "name": "stderr",
     "output_type": "stream",
     "text": [
      "/tmp/ipykernel_309421/3381436898.py:19: RuntimeWarning: divide by zero encountered in scalar divide\n",
      "  nrmse = rmse / (data.y_true.mean())\n",
      "/tmp/ipykernel_309421/3381436898.py:19: RuntimeWarning: divide by zero encountered in scalar divide\n",
      "  nrmse = rmse / (data.y_true.mean())\n",
      "/tmp/ipykernel_309421/3381436898.py:19: RuntimeWarning: divide by zero encountered in scalar divide\n",
      "  nrmse = rmse / (data.y_true.mean())\n",
      "/tmp/ipykernel_309421/3381436898.py:19: RuntimeWarning: divide by zero encountered in scalar divide\n",
      "  nrmse = rmse / (data.y_true.mean())\n",
      "/tmp/ipykernel_309421/3381436898.py:19: RuntimeWarning: divide by zero encountered in scalar divide\n",
      "  nrmse = rmse / (data.y_true.mean())\n"
     ]
    },
    {
     "name": "stdout",
     "output_type": "stream",
     "text": [
      "Results/timesfm/forecasts/GoiEner/Goiner-1H-10_2.csv Done\n"
     ]
    },
    {
     "name": "stderr",
     "output_type": "stream",
     "text": [
      "/tmp/ipykernel_309421/3381436898.py:19: RuntimeWarning: divide by zero encountered in scalar divide\n",
      "  nrmse = rmse / (data.y_true.mean())\n"
     ]
    },
    {
     "name": "stdout",
     "output_type": "stream",
     "text": [
      "Results/timesfm/forecasts/GoiEner/Goiner-1H-1_2.csv Done\n"
     ]
    },
    {
     "name": "stderr",
     "output_type": "stream",
     "text": [
      "/tmp/ipykernel_309421/3381436898.py:19: RuntimeWarning: divide by zero encountered in scalar divide\n",
      "  nrmse = rmse / (data.y_true.mean())\n",
      "/tmp/ipykernel_309421/3381436898.py:19: RuntimeWarning: divide by zero encountered in scalar divide\n",
      "  nrmse = rmse / (data.y_true.mean())\n"
     ]
    },
    {
     "name": "stdout",
     "output_type": "stream",
     "text": [
      "Results/timesfm/forecasts/GoiEner/Goiner-1H-21_2.csv Done\n"
     ]
    },
    {
     "name": "stderr",
     "output_type": "stream",
     "text": [
      "/tmp/ipykernel_309421/3381436898.py:19: RuntimeWarning: divide by zero encountered in scalar divide\n",
      "  nrmse = rmse / (data.y_true.mean())\n",
      "/tmp/ipykernel_309421/3381436898.py:19: RuntimeWarning: divide by zero encountered in scalar divide\n",
      "  nrmse = rmse / (data.y_true.mean())\n"
     ]
    },
    {
     "name": "stdout",
     "output_type": "stream",
     "text": [
      "Results/timesfm/forecasts/GoiEner/Goiner-1H-26_1.csv Done\n"
     ]
    },
    {
     "name": "stderr",
     "output_type": "stream",
     "text": [
      "/tmp/ipykernel_309421/3381436898.py:19: RuntimeWarning: divide by zero encountered in scalar divide\n",
      "  nrmse = rmse / (data.y_true.mean())\n",
      "/tmp/ipykernel_309421/3381436898.py:19: RuntimeWarning: divide by zero encountered in scalar divide\n",
      "  nrmse = rmse / (data.y_true.mean())\n",
      "/tmp/ipykernel_309421/3381436898.py:19: RuntimeWarning: divide by zero encountered in scalar divide\n",
      "  nrmse = rmse / (data.y_true.mean())\n",
      "/tmp/ipykernel_309421/3381436898.py:19: RuntimeWarning: divide by zero encountered in scalar divide\n",
      "  nrmse = rmse / (data.y_true.mean())\n"
     ]
    },
    {
     "name": "stdout",
     "output_type": "stream",
     "text": [
      "Results/timesfm/forecasts/GoiEner/Goiner-1H-4_1.csv Done\n"
     ]
    },
    {
     "name": "stderr",
     "output_type": "stream",
     "text": [
      "/tmp/ipykernel_309421/3381436898.py:19: RuntimeWarning: divide by zero encountered in scalar divide\n",
      "  nrmse = rmse / (data.y_true.mean())\n",
      "/tmp/ipykernel_309421/3381436898.py:19: RuntimeWarning: divide by zero encountered in scalar divide\n",
      "  nrmse = rmse / (data.y_true.mean())\n"
     ]
    },
    {
     "name": "stdout",
     "output_type": "stream",
     "text": [
      "Results/timesfm/forecasts/GoiEner/Goiner-1H-20_2.csv Done\n",
      "Results/timesfm/forecasts/GoiEner/Goiner-1H-22_2.csv Done\n"
     ]
    },
    {
     "name": "stderr",
     "output_type": "stream",
     "text": [
      "/tmp/ipykernel_309421/3381436898.py:19: RuntimeWarning: divide by zero encountered in scalar divide\n",
      "  nrmse = rmse / (data.y_true.mean())\n"
     ]
    },
    {
     "name": "stdout",
     "output_type": "stream",
     "text": [
      "Results/timesfm/forecasts/GoiEner/Goiner-1H-2_1.csv Done\n"
     ]
    },
    {
     "name": "stderr",
     "output_type": "stream",
     "text": [
      "/tmp/ipykernel_309421/3381436898.py:19: RuntimeWarning: divide by zero encountered in scalar divide\n",
      "  nrmse = rmse / (data.y_true.mean())\n",
      "/tmp/ipykernel_309421/3381436898.py:19: RuntimeWarning: divide by zero encountered in scalar divide\n",
      "  nrmse = rmse / (data.y_true.mean())\n",
      "/tmp/ipykernel_309421/3381436898.py:19: RuntimeWarning: divide by zero encountered in scalar divide\n",
      "  nrmse = rmse / (data.y_true.mean())\n"
     ]
    },
    {
     "name": "stdout",
     "output_type": "stream",
     "text": [
      "Results/timesfm/forecasts/GoiEner/Goiner-1H-13_2.csv Done\n"
     ]
    },
    {
     "name": "stderr",
     "output_type": "stream",
     "text": [
      "/tmp/ipykernel_309421/3381436898.py:19: RuntimeWarning: divide by zero encountered in scalar divide\n",
      "  nrmse = rmse / (data.y_true.mean())\n"
     ]
    },
    {
     "name": "stdout",
     "output_type": "stream",
     "text": [
      "Results/timesfm/forecasts/GoiEner/Goiner-1H-23_1.csv Done\n"
     ]
    },
    {
     "name": "stderr",
     "output_type": "stream",
     "text": [
      "/tmp/ipykernel_309421/3381436898.py:19: RuntimeWarning: divide by zero encountered in scalar divide\n",
      "  nrmse = rmse / (data.y_true.mean())\n",
      "/tmp/ipykernel_309421/3381436898.py:19: RuntimeWarning: divide by zero encountered in scalar divide\n",
      "  nrmse = rmse / (data.y_true.mean())\n",
      "/tmp/ipykernel_309421/3381436898.py:19: RuntimeWarning: divide by zero encountered in scalar divide\n",
      "  nrmse = rmse / (data.y_true.mean())\n",
      "/tmp/ipykernel_309421/3381436898.py:19: RuntimeWarning: divide by zero encountered in scalar divide\n",
      "  nrmse = rmse / (data.y_true.mean())\n"
     ]
    },
    {
     "name": "stdout",
     "output_type": "stream",
     "text": [
      "Results/timesfm/forecasts/GoiEner/Goiner-1H-12_2.csv Done\n"
     ]
    },
    {
     "name": "stderr",
     "output_type": "stream",
     "text": [
      "/tmp/ipykernel_309421/3381436898.py:19: RuntimeWarning: divide by zero encountered in scalar divide\n",
      "  nrmse = rmse / (data.y_true.mean())\n",
      "/tmp/ipykernel_309421/3381436898.py:19: RuntimeWarning: divide by zero encountered in scalar divide\n",
      "  nrmse = rmse / (data.y_true.mean())\n",
      "/tmp/ipykernel_309421/3381436898.py:19: RuntimeWarning: divide by zero encountered in scalar divide\n",
      "  nrmse = rmse / (data.y_true.mean())\n"
     ]
    },
    {
     "name": "stdout",
     "output_type": "stream",
     "text": [
      "Results/timesfm/forecasts/GoiEner/Goiner-1H-10_1.csv Done\n"
     ]
    },
    {
     "name": "stderr",
     "output_type": "stream",
     "text": [
      "/tmp/ipykernel_309421/3381436898.py:19: RuntimeWarning: divide by zero encountered in scalar divide\n",
      "  nrmse = rmse / (data.y_true.mean())\n",
      "/tmp/ipykernel_309421/3381436898.py:19: RuntimeWarning: divide by zero encountered in scalar divide\n",
      "  nrmse = rmse / (data.y_true.mean())\n"
     ]
    },
    {
     "name": "stdout",
     "output_type": "stream",
     "text": [
      "Results/timesfm/forecasts/GoiEner/Goiner-1H-6_2.csv Done\n"
     ]
    },
    {
     "name": "stderr",
     "output_type": "stream",
     "text": [
      "/tmp/ipykernel_309421/3381436898.py:19: RuntimeWarning: divide by zero encountered in scalar divide\n",
      "  nrmse = rmse / (data.y_true.mean())\n",
      "/tmp/ipykernel_309421/3381436898.py:19: RuntimeWarning: divide by zero encountered in scalar divide\n",
      "  nrmse = rmse / (data.y_true.mean())\n",
      "/home/ai-iot-2/anaconda3/envs/tfm_env/lib/python3.10/site-packages/permetrics/regression.py:357: RuntimeWarning: invalid value encountered in divide\n",
      "  result = np.mean(np.abs(y_pred - y_true) / (np.abs(y_true) + np.abs(y_pred)), axis=0)\n",
      "/tmp/ipykernel_309421/3381436898.py:19: RuntimeWarning: divide by zero encountered in scalar divide\n",
      "  nrmse = rmse / (data.y_true.mean())\n",
      "/tmp/ipykernel_309421/3381436898.py:19: RuntimeWarning: divide by zero encountered in scalar divide\n",
      "  nrmse = rmse / (data.y_true.mean())\n"
     ]
    },
    {
     "name": "stdout",
     "output_type": "stream",
     "text": [
      "Results/timesfm/forecasts/GoiEner/Goiner-1H-17_2.csv Done\n"
     ]
    },
    {
     "name": "stderr",
     "output_type": "stream",
     "text": [
      "/tmp/ipykernel_309421/3381436898.py:19: RuntimeWarning: divide by zero encountered in scalar divide\n",
      "  nrmse = rmse / (data.y_true.mean())\n",
      "/home/ai-iot-2/anaconda3/envs/tfm_env/lib/python3.10/site-packages/permetrics/regression.py:357: RuntimeWarning: invalid value encountered in divide\n",
      "  result = np.mean(np.abs(y_pred - y_true) / (np.abs(y_true) + np.abs(y_pred)), axis=0)\n",
      "/tmp/ipykernel_309421/3381436898.py:19: RuntimeWarning: divide by zero encountered in scalar divide\n",
      "  nrmse = rmse / (data.y_true.mean())\n",
      "/tmp/ipykernel_309421/3381436898.py:19: RuntimeWarning: divide by zero encountered in scalar divide\n",
      "  nrmse = rmse / (data.y_true.mean())\n"
     ]
    },
    {
     "name": "stdout",
     "output_type": "stream",
     "text": [
      "Results/timesfm/forecasts/GoiEner/Goiner-1H-18_2.csv Done\n"
     ]
    },
    {
     "name": "stderr",
     "output_type": "stream",
     "text": [
      "/tmp/ipykernel_309421/3381436898.py:19: RuntimeWarning: divide by zero encountered in scalar divide\n",
      "  nrmse = rmse / (data.y_true.mean())\n",
      "/tmp/ipykernel_309421/3381436898.py:19: RuntimeWarning: divide by zero encountered in scalar divide\n",
      "  nrmse = rmse / (data.y_true.mean())\n"
     ]
    },
    {
     "name": "stdout",
     "output_type": "stream",
     "text": [
      "Results/timesfm/forecasts/GoiEner/Goiner-1H-3_2.csv Done\n",
      "Results/timesfm/forecasts/GoiEner/Goiner-1H-14_1.csv Done\n"
     ]
    },
    {
     "name": "stderr",
     "output_type": "stream",
     "text": [
      "/tmp/ipykernel_309421/3381436898.py:19: RuntimeWarning: divide by zero encountered in scalar divide\n",
      "  nrmse = rmse / (data.y_true.mean())\n"
     ]
    },
    {
     "name": "stdout",
     "output_type": "stream",
     "text": [
      "Results/timesfm/forecasts/GoiEner/Goiner-1H-15_2.csv Done\n"
     ]
    },
    {
     "name": "stderr",
     "output_type": "stream",
     "text": [
      "/home/ai-iot-2/anaconda3/envs/tfm_env/lib/python3.10/site-packages/permetrics/regression.py:357: RuntimeWarning: invalid value encountered in divide\n",
      "  result = np.mean(np.abs(y_pred - y_true) / (np.abs(y_true) + np.abs(y_pred)), axis=0)\n",
      "/tmp/ipykernel_309421/3381436898.py:19: RuntimeWarning: divide by zero encountered in scalar divide\n",
      "  nrmse = rmse / (data.y_true.mean())\n",
      "/tmp/ipykernel_309421/3381436898.py:19: RuntimeWarning: divide by zero encountered in scalar divide\n",
      "  nrmse = rmse / (data.y_true.mean())\n",
      "/tmp/ipykernel_309421/3381436898.py:19: RuntimeWarning: divide by zero encountered in scalar divide\n",
      "  nrmse = rmse / (data.y_true.mean())\n"
     ]
    },
    {
     "name": "stdout",
     "output_type": "stream",
     "text": [
      "Results/timesfm/forecasts/GoiEner/Goiner-1H-15_1.csv Done\n",
      "Results/timesfm/forecasts/GoiEner/Goiner-1H-26_2.csv Done\n"
     ]
    },
    {
     "name": "stderr",
     "output_type": "stream",
     "text": [
      "/tmp/ipykernel_309421/3381436898.py:19: RuntimeWarning: divide by zero encountered in scalar divide\n",
      "  nrmse = rmse / (data.y_true.mean())\n",
      "/tmp/ipykernel_309421/3381436898.py:19: RuntimeWarning: divide by zero encountered in scalar divide\n",
      "  nrmse = rmse / (data.y_true.mean())\n"
     ]
    },
    {
     "name": "stdout",
     "output_type": "stream",
     "text": [
      "Results/timesfm/forecasts/GoiEner/Goiner-1H-24_1.csv Done\n"
     ]
    },
    {
     "name": "stderr",
     "output_type": "stream",
     "text": [
      "/home/ai-iot-2/anaconda3/envs/tfm_env/lib/python3.10/site-packages/permetrics/regression.py:357: RuntimeWarning: invalid value encountered in divide\n",
      "  result = np.mean(np.abs(y_pred - y_true) / (np.abs(y_true) + np.abs(y_pred)), axis=0)\n",
      "/tmp/ipykernel_309421/3381436898.py:19: RuntimeWarning: divide by zero encountered in scalar divide\n",
      "  nrmse = rmse / (data.y_true.mean())\n"
     ]
    },
    {
     "name": "stdout",
     "output_type": "stream",
     "text": [
      "Results/timesfm/forecasts/GoiEner/Goiner-1H-5_1.csv Done\n"
     ]
    },
    {
     "name": "stderr",
     "output_type": "stream",
     "text": [
      "/tmp/ipykernel_309421/3381436898.py:19: RuntimeWarning: divide by zero encountered in scalar divide\n",
      "  nrmse = rmse / (data.y_true.mean())\n",
      "/tmp/ipykernel_309421/3381436898.py:19: RuntimeWarning: divide by zero encountered in scalar divide\n",
      "  nrmse = rmse / (data.y_true.mean())\n",
      "/tmp/ipykernel_309421/3381436898.py:19: RuntimeWarning: divide by zero encountered in scalar divide\n",
      "  nrmse = rmse / (data.y_true.mean())\n"
     ]
    },
    {
     "name": "stdout",
     "output_type": "stream",
     "text": [
      "Results/timesfm/forecasts/GoiEner/Goiner-1H-25_1.csv Done\n"
     ]
    },
    {
     "name": "stderr",
     "output_type": "stream",
     "text": [
      "/tmp/ipykernel_309421/3381436898.py:19: RuntimeWarning: divide by zero encountered in scalar divide\n",
      "  nrmse = rmse / (data.y_true.mean())\n",
      "/tmp/ipykernel_309421/3381436898.py:19: RuntimeWarning: divide by zero encountered in scalar divide\n",
      "  nrmse = rmse / (data.y_true.mean())\n",
      "/tmp/ipykernel_309421/3381436898.py:19: RuntimeWarning: divide by zero encountered in scalar divide\n",
      "  nrmse = rmse / (data.y_true.mean())\n",
      "/tmp/ipykernel_309421/3381436898.py:19: RuntimeWarning: divide by zero encountered in scalar divide\n",
      "  nrmse = rmse / (data.y_true.mean())\n"
     ]
    },
    {
     "name": "stdout",
     "output_type": "stream",
     "text": [
      "Results/timesfm/forecasts/GoiEner/Goiner-1H-22_1.csv Done\n"
     ]
    },
    {
     "name": "stderr",
     "output_type": "stream",
     "text": [
      "/tmp/ipykernel_309421/3381436898.py:19: RuntimeWarning: divide by zero encountered in scalar divide\n",
      "  nrmse = rmse / (data.y_true.mean())\n"
     ]
    },
    {
     "name": "stdout",
     "output_type": "stream",
     "text": [
      "Results/timesfm/forecasts/GoiEner/Goiner-1H-2_2.csv Done\n",
      "Results/timesfm/forecasts/GoiEner/Goiner-1H-25_2.csv Done\n"
     ]
    },
    {
     "name": "stderr",
     "output_type": "stream",
     "text": [
      "/home/ai-iot-2/anaconda3/envs/tfm_env/lib/python3.10/site-packages/permetrics/regression.py:357: RuntimeWarning: invalid value encountered in divide\n",
      "  result = np.mean(np.abs(y_pred - y_true) / (np.abs(y_true) + np.abs(y_pred)), axis=0)\n"
     ]
    },
    {
     "name": "stdout",
     "output_type": "stream",
     "text": [
      "Results/timesfm/forecasts/GoiEner/Goiner-1H-9_2.csv Done\n"
     ]
    },
    {
     "name": "stderr",
     "output_type": "stream",
     "text": [
      "/tmp/ipykernel_309421/3381436898.py:19: RuntimeWarning: divide by zero encountered in scalar divide\n",
      "  nrmse = rmse / (data.y_true.mean())\n",
      "/tmp/ipykernel_309421/3381436898.py:19: RuntimeWarning: divide by zero encountered in scalar divide\n",
      "  nrmse = rmse / (data.y_true.mean())\n"
     ]
    },
    {
     "name": "stdout",
     "output_type": "stream",
     "text": [
      "Results/timesfm/forecasts/GoiEner/Goiner-1H-14_2.csv Done\n"
     ]
    },
    {
     "name": "stderr",
     "output_type": "stream",
     "text": [
      "/tmp/ipykernel_309421/3381436898.py:19: RuntimeWarning: divide by zero encountered in scalar divide\n",
      "  nrmse = rmse / (data.y_true.mean())\n"
     ]
    },
    {
     "name": "stdout",
     "output_type": "stream",
     "text": [
      "Results/timesfm/forecasts/GoiEner/Goiner-1H-6_1.csv Done\n"
     ]
    },
    {
     "name": "stderr",
     "output_type": "stream",
     "text": [
      "/tmp/ipykernel_309421/3381436898.py:19: RuntimeWarning: divide by zero encountered in scalar divide\n",
      "  nrmse = rmse / (data.y_true.mean())\n",
      "/tmp/ipykernel_309421/3381436898.py:19: RuntimeWarning: divide by zero encountered in scalar divide\n",
      "  nrmse = rmse / (data.y_true.mean())\n",
      "/tmp/ipykernel_309421/3381436898.py:19: RuntimeWarning: divide by zero encountered in scalar divide\n",
      "  nrmse = rmse / (data.y_true.mean())\n"
     ]
    },
    {
     "name": "stdout",
     "output_type": "stream",
     "text": [
      "Results/timesfm/forecasts/GoiEner/Goiner-1H-16_2.csv Done\n"
     ]
    },
    {
     "name": "stderr",
     "output_type": "stream",
     "text": [
      "/tmp/ipykernel_309421/3381436898.py:19: RuntimeWarning: divide by zero encountered in scalar divide\n",
      "  nrmse = rmse / (data.y_true.mean())\n",
      "/tmp/ipykernel_309421/3381436898.py:19: RuntimeWarning: divide by zero encountered in scalar divide\n",
      "  nrmse = rmse / (data.y_true.mean())\n",
      "/tmp/ipykernel_309421/3381436898.py:19: RuntimeWarning: divide by zero encountered in scalar divide\n",
      "  nrmse = rmse / (data.y_true.mean())\n",
      "/tmp/ipykernel_309421/3381436898.py:19: RuntimeWarning: divide by zero encountered in scalar divide\n",
      "  nrmse = rmse / (data.y_true.mean())\n",
      "/tmp/ipykernel_309421/3381436898.py:19: RuntimeWarning: divide by zero encountered in scalar divide\n",
      "  nrmse = rmse / (data.y_true.mean())\n"
     ]
    },
    {
     "name": "stdout",
     "output_type": "stream",
     "text": [
      "Results/timesfm/forecasts/GoiEner/Goiner-1H-19_1.csv Done\n",
      "Results/timesfm/forecasts/GoiEner/Goiner-1H-19_2.csv Done\n",
      "Results/timesfm/forecasts/GoiEner/Goiner-1H-16_1.csv Done\n"
     ]
    },
    {
     "name": "stderr",
     "output_type": "stream",
     "text": [
      "/tmp/ipykernel_309421/3381436898.py:19: RuntimeWarning: divide by zero encountered in scalar divide\n",
      "  nrmse = rmse / (data.y_true.mean())\n",
      "/tmp/ipykernel_309421/3381436898.py:19: RuntimeWarning: divide by zero encountered in scalar divide\n",
      "  nrmse = rmse / (data.y_true.mean())\n"
     ]
    },
    {
     "name": "stdout",
     "output_type": "stream",
     "text": [
      "Results/timesfm/forecasts/GoiEner/Goiner-1H-11_1.csv Done\n",
      "Results/timesfm/forecasts/GoiEner/Goiner-1H-1_1.csv Done\n"
     ]
    },
    {
     "name": "stderr",
     "output_type": "stream",
     "text": [
      "/tmp/ipykernel_309421/3381436898.py:19: RuntimeWarning: divide by zero encountered in scalar divide\n",
      "  nrmse = rmse / (data.y_true.mean())\n",
      "/tmp/ipykernel_309421/3381436898.py:19: RuntimeWarning: divide by zero encountered in scalar divide\n",
      "  nrmse = rmse / (data.y_true.mean())\n"
     ]
    },
    {
     "name": "stdout",
     "output_type": "stream",
     "text": [
      "Results/timesfm/forecasts/GoiEner/Goiner-1H-7_1.csv Done\n"
     ]
    },
    {
     "name": "stderr",
     "output_type": "stream",
     "text": [
      "/tmp/ipykernel_309421/3381436898.py:19: RuntimeWarning: divide by zero encountered in scalar divide\n",
      "  nrmse = rmse / (data.y_true.mean())\n",
      "/tmp/ipykernel_309421/3381436898.py:19: RuntimeWarning: divide by zero encountered in scalar divide\n",
      "  nrmse = rmse / (data.y_true.mean())\n",
      "/tmp/ipykernel_309421/3381436898.py:19: RuntimeWarning: divide by zero encountered in scalar divide\n",
      "  nrmse = rmse / (data.y_true.mean())\n",
      "/tmp/ipykernel_309421/3381436898.py:19: RuntimeWarning: divide by zero encountered in scalar divide\n",
      "  nrmse = rmse / (data.y_true.mean())\n",
      "/tmp/ipykernel_309421/3381436898.py:19: RuntimeWarning: divide by zero encountered in scalar divide\n",
      "  nrmse = rmse / (data.y_true.mean())\n"
     ]
    },
    {
     "name": "stdout",
     "output_type": "stream",
     "text": [
      "Results/timesfm/forecasts/GoiEner/Goiner-1H-12_1.csv Done\n",
      "Results/timesfm/forecasts/GoiEner/Goiner-1H-11_2.csv Done\n"
     ]
    },
    {
     "name": "stderr",
     "output_type": "stream",
     "text": [
      "/tmp/ipykernel_309421/3381436898.py:19: RuntimeWarning: divide by zero encountered in scalar divide\n",
      "  nrmse = rmse / (data.y_true.mean())\n",
      "/tmp/ipykernel_309421/3381436898.py:19: RuntimeWarning: divide by zero encountered in scalar divide\n",
      "  nrmse = rmse / (data.y_true.mean())\n",
      "/tmp/ipykernel_309421/3381436898.py:19: RuntimeWarning: divide by zero encountered in scalar divide\n",
      "  nrmse = rmse / (data.y_true.mean())\n"
     ]
    },
    {
     "name": "stdout",
     "output_type": "stream",
     "text": [
      "Results/timesfm/forecasts/GoiEner/Goiner-1H-7_2.csv Done\n"
     ]
    },
    {
     "name": "stderr",
     "output_type": "stream",
     "text": [
      "/tmp/ipykernel_309421/3381436898.py:19: RuntimeWarning: divide by zero encountered in scalar divide\n",
      "  nrmse = rmse / (data.y_true.mean())\n",
      "/tmp/ipykernel_309421/3381436898.py:19: RuntimeWarning: divide by zero encountered in scalar divide\n",
      "  nrmse = rmse / (data.y_true.mean())\n",
      "/tmp/ipykernel_309421/3381436898.py:19: RuntimeWarning: divide by zero encountered in scalar divide\n",
      "  nrmse = rmse / (data.y_true.mean())\n",
      "/tmp/ipykernel_309421/3381436898.py:19: RuntimeWarning: divide by zero encountered in scalar divide\n",
      "  nrmse = rmse / (data.y_true.mean())\n",
      "/tmp/ipykernel_309421/3381436898.py:19: RuntimeWarning: divide by zero encountered in scalar divide\n",
      "  nrmse = rmse / (data.y_true.mean())\n"
     ]
    },
    {
     "name": "stdout",
     "output_type": "stream",
     "text": [
      "Results/timesfm/forecasts/GoiEner/Goiner-1H-9_1.csv Done\n",
      "Results/timesfm/forecasts/GoiEner/Goiner-1H-21_1.csv Done\n"
     ]
    },
    {
     "name": "stderr",
     "output_type": "stream",
     "text": [
      "/tmp/ipykernel_309421/3381436898.py:19: RuntimeWarning: divide by zero encountered in scalar divide\n",
      "  nrmse = rmse / (data.y_true.mean())\n",
      "/tmp/ipykernel_309421/3381436898.py:19: RuntimeWarning: divide by zero encountered in scalar divide\n",
      "  nrmse = rmse / (data.y_true.mean())\n",
      "/tmp/ipykernel_309421/3381436898.py:19: RuntimeWarning: divide by zero encountered in scalar divide\n",
      "  nrmse = rmse / (data.y_true.mean())\n"
     ]
    },
    {
     "name": "stdout",
     "output_type": "stream",
     "text": [
      "Results/timesfm/forecasts/GoiEner/Goiner-1H-5_2.csv Done\n"
     ]
    }
   ],
   "source": [
    "metrics_all_files = []\n",
    "\n",
    "for filename in files_list:\n",
    "    res = pd.read_csv(filename)\n",
    "    metrics_all = []\n",
    "    for (g, data) in res.groupby(['building']):\n",
    "        try:\n",
    "            data = data.dropna()\n",
    "            data = data[data.y_pred >= 0]\n",
    "            # print(g)  \n",
    "            if data.empty:\n",
    "                continue\n",
    "            rmse= root_mean_squared_error(data.y_true, data.y_pred)\n",
    "            mae= mean_absolute_error(data.y_true, data.y_pred)\n",
    "            mape = mean_absolute_percentage_error(data.y_true, data.y_pred)\n",
    "            mse= mean_squared_error(data.y_true, data.y_pred)\n",
    "            msle= mean_squared_log_error(data.y_true, data.y_pred)\n",
    "            rmsle= root_mean_squared_log_error(data.y_true, data.y_pred)\n",
    "            nrmse = rmse / (data.y_true.mean()) \n",
    "    \n",
    "            evaluator = RegressionMetric(data.y_true.to_list(), data.y_pred.to_list())\n",
    "            nrmse_eve = evaluator.normalized_root_mean_square_error()\n",
    "            evaluator = RegressionMetric(data.y_true.to_list(), data.y_pred.to_list())\n",
    "            smape= evaluator.symmetric_mean_absolute_percentage_error()\n",
    "        \n",
    "            metrics = pd.DataFrame({'building_name': [g[0]], \n",
    "                               'mae': [mae],\n",
    "                                'mape': [mape],\n",
    "                               'mse': [mse], 'rmse': [rmse], 'msle': [msle], 'rmsle': [rmsle], 'nrmse' : [nrmse],\n",
    "                                  'nrmse_eve':[nrmse_eve] , 'sMAPE' : [smape]})\n",
    "            metrics_all.append(metrics)\n",
    "        except Exception as e:\n",
    "            continue\n",
    "    \n",
    "    metrics_all_df = pd.concat(metrics_all)\n",
    "    metrics_all_df.to_csv(f'Results/timesfm/results/{dataset}/{os.path.basename(filename)}')\n",
    "\n",
    "    metrics_all_df['filename'] = os.path.basename(filename)\n",
    "    metrics_all_files.append(metrics_all_df)\n",
    "    print(filename, 'Done')\n",
    "\n",
    "\n",
    "metrics_all_files_df = pd.concat(metrics_all_files)"
   ]
  },
  {
   "cell_type": "code",
   "execution_count": 4,
   "id": "909cbfcf-fbbe-49ab-bced-07eef021d6f8",
   "metadata": {},
   "outputs": [
    {
     "data": {
      "text/plain": [
       "(497, 11)"
      ]
     },
     "execution_count": 4,
     "metadata": {},
     "output_type": "execute_result"
    }
   ],
   "source": [
    "metrics_all_df.shape"
   ]
  },
  {
   "cell_type": "code",
   "execution_count": 5,
   "id": "5c05bb5f-abf0-4bf7-9c37-8af4487d74df",
   "metadata": {},
   "outputs": [
    {
     "data": {
      "text/plain": [
       "(25453, 11)"
      ]
     },
     "execution_count": 5,
     "metadata": {},
     "output_type": "execute_result"
    }
   ],
   "source": [
    "metrics_all_files_df.shape"
   ]
  },
  {
   "cell_type": "code",
   "execution_count": 6,
   "id": "8c34e432-0a63-42fa-8418-94c7f0b5a25c",
   "metadata": {
    "scrolled": true
   },
   "outputs": [
    {
     "data": {
      "text/html": [
       "<div>\n",
       "<style scoped>\n",
       "    .dataframe tbody tr th:only-of-type {\n",
       "        vertical-align: middle;\n",
       "    }\n",
       "\n",
       "    .dataframe tbody tr th {\n",
       "        vertical-align: top;\n",
       "    }\n",
       "\n",
       "    .dataframe thead th {\n",
       "        text-align: right;\n",
       "    }\n",
       "</style>\n",
       "<table border=\"1\" class=\"dataframe\">\n",
       "  <thead>\n",
       "    <tr style=\"text-align: right;\">\n",
       "      <th></th>\n",
       "      <th>building_name</th>\n",
       "      <th>mae</th>\n",
       "      <th>mape</th>\n",
       "      <th>mse</th>\n",
       "      <th>rmse</th>\n",
       "      <th>msle</th>\n",
       "      <th>rmsle</th>\n",
       "      <th>nrmse</th>\n",
       "      <th>nrmse_eve</th>\n",
       "      <th>sMAPE</th>\n",
       "      <th>filename</th>\n",
       "    </tr>\n",
       "  </thead>\n",
       "  <tbody>\n",
       "    <tr>\n",
       "      <th>0</th>\n",
       "      <td>sp17001</td>\n",
       "      <td>0.043461</td>\n",
       "      <td>8.611993e+12</td>\n",
       "      <td>0.005926</td>\n",
       "      <td>0.076981</td>\n",
       "      <td>0.004109</td>\n",
       "      <td>0.064098</td>\n",
       "      <td>1.127606</td>\n",
       "      <td>1.316017</td>\n",
       "      <td>0.328799</td>\n",
       "      <td>Goiner-1H-18_1.csv</td>\n",
       "    </tr>\n",
       "    <tr>\n",
       "      <th>0</th>\n",
       "      <td>sp17002</td>\n",
       "      <td>0.040198</td>\n",
       "      <td>2.118664e+10</td>\n",
       "      <td>0.005205</td>\n",
       "      <td>0.072145</td>\n",
       "      <td>0.003554</td>\n",
       "      <td>0.059618</td>\n",
       "      <td>0.773557</td>\n",
       "      <td>2.011139</td>\n",
       "      <td>0.188823</td>\n",
       "      <td>Goiner-1H-18_1.csv</td>\n",
       "    </tr>\n",
       "    <tr>\n",
       "      <th>0</th>\n",
       "      <td>sp17003</td>\n",
       "      <td>0.034744</td>\n",
       "      <td>6.384343e+09</td>\n",
       "      <td>0.003571</td>\n",
       "      <td>0.059755</td>\n",
       "      <td>0.002610</td>\n",
       "      <td>0.051087</td>\n",
       "      <td>1.022274</td>\n",
       "      <td>0.939169</td>\n",
       "      <td>0.369157</td>\n",
       "      <td>Goiner-1H-18_1.csv</td>\n",
       "    </tr>\n",
       "    <tr>\n",
       "      <th>0</th>\n",
       "      <td>sp17004</td>\n",
       "      <td>0.053453</td>\n",
       "      <td>9.947771e+09</td>\n",
       "      <td>0.008097</td>\n",
       "      <td>0.089983</td>\n",
       "      <td>0.005350</td>\n",
       "      <td>0.073144</td>\n",
       "      <td>0.915628</td>\n",
       "      <td>1.688187</td>\n",
       "      <td>0.250206</td>\n",
       "      <td>Goiner-1H-18_1.csv</td>\n",
       "    </tr>\n",
       "    <tr>\n",
       "      <th>0</th>\n",
       "      <td>sp17005</td>\n",
       "      <td>0.037719</td>\n",
       "      <td>3.299591e+10</td>\n",
       "      <td>0.004079</td>\n",
       "      <td>0.063864</td>\n",
       "      <td>0.002016</td>\n",
       "      <td>0.044895</td>\n",
       "      <td>0.172673</td>\n",
       "      <td>0.332329</td>\n",
       "      <td>0.072919</td>\n",
       "      <td>Goiner-1H-18_1.csv</td>\n",
       "    </tr>\n",
       "    <tr>\n",
       "      <th>...</th>\n",
       "      <td>...</td>\n",
       "      <td>...</td>\n",
       "      <td>...</td>\n",
       "      <td>...</td>\n",
       "      <td>...</td>\n",
       "      <td>...</td>\n",
       "      <td>...</td>\n",
       "      <td>...</td>\n",
       "      <td>...</td>\n",
       "      <td>...</td>\n",
       "      <td>...</td>\n",
       "    </tr>\n",
       "    <tr>\n",
       "      <th>0</th>\n",
       "      <td>sp4996</td>\n",
       "      <td>0.053246</td>\n",
       "      <td>7.285606e+09</td>\n",
       "      <td>0.008456</td>\n",
       "      <td>0.091955</td>\n",
       "      <td>0.005620</td>\n",
       "      <td>0.074966</td>\n",
       "      <td>0.811647</td>\n",
       "      <td>0.890296</td>\n",
       "      <td>0.240853</td>\n",
       "      <td>Goiner-1H-5_2.csv</td>\n",
       "    </tr>\n",
       "    <tr>\n",
       "      <th>0</th>\n",
       "      <td>sp4997</td>\n",
       "      <td>0.039761</td>\n",
       "      <td>3.326787e+10</td>\n",
       "      <td>0.006676</td>\n",
       "      <td>0.081707</td>\n",
       "      <td>0.004567</td>\n",
       "      <td>0.067579</td>\n",
       "      <td>1.674651</td>\n",
       "      <td>2.334160</td>\n",
       "      <td>0.374766</td>\n",
       "      <td>Goiner-1H-5_2.csv</td>\n",
       "    </tr>\n",
       "    <tr>\n",
       "      <th>0</th>\n",
       "      <td>sp4998</td>\n",
       "      <td>0.065707</td>\n",
       "      <td>9.507648e+11</td>\n",
       "      <td>0.015226</td>\n",
       "      <td>0.123392</td>\n",
       "      <td>0.008413</td>\n",
       "      <td>0.091720</td>\n",
       "      <td>0.956630</td>\n",
       "      <td>2.703961</td>\n",
       "      <td>0.220491</td>\n",
       "      <td>Goiner-1H-5_2.csv</td>\n",
       "    </tr>\n",
       "    <tr>\n",
       "      <th>0</th>\n",
       "      <td>sp4999</td>\n",
       "      <td>0.056611</td>\n",
       "      <td>3.009324e+10</td>\n",
       "      <td>0.009150</td>\n",
       "      <td>0.095657</td>\n",
       "      <td>0.006086</td>\n",
       "      <td>0.078010</td>\n",
       "      <td>1.092409</td>\n",
       "      <td>1.446161</td>\n",
       "      <td>0.320083</td>\n",
       "      <td>Goiner-1H-5_2.csv</td>\n",
       "    </tr>\n",
       "    <tr>\n",
       "      <th>0</th>\n",
       "      <td>sp5000</td>\n",
       "      <td>0.076684</td>\n",
       "      <td>1.496915e+11</td>\n",
       "      <td>0.012833</td>\n",
       "      <td>0.113282</td>\n",
       "      <td>0.006786</td>\n",
       "      <td>0.082375</td>\n",
       "      <td>0.368567</td>\n",
       "      <td>0.758214</td>\n",
       "      <td>0.130607</td>\n",
       "      <td>Goiner-1H-5_2.csv</td>\n",
       "    </tr>\n",
       "  </tbody>\n",
       "</table>\n",
       "<p>25453 rows × 11 columns</p>\n",
       "</div>"
      ],
      "text/plain": [
       "   building_name       mae          mape       mse      rmse      msle  \\\n",
       "0        sp17001  0.043461  8.611993e+12  0.005926  0.076981  0.004109   \n",
       "0        sp17002  0.040198  2.118664e+10  0.005205  0.072145  0.003554   \n",
       "0        sp17003  0.034744  6.384343e+09  0.003571  0.059755  0.002610   \n",
       "0        sp17004  0.053453  9.947771e+09  0.008097  0.089983  0.005350   \n",
       "0        sp17005  0.037719  3.299591e+10  0.004079  0.063864  0.002016   \n",
       "..           ...       ...           ...       ...       ...       ...   \n",
       "0         sp4996  0.053246  7.285606e+09  0.008456  0.091955  0.005620   \n",
       "0         sp4997  0.039761  3.326787e+10  0.006676  0.081707  0.004567   \n",
       "0         sp4998  0.065707  9.507648e+11  0.015226  0.123392  0.008413   \n",
       "0         sp4999  0.056611  3.009324e+10  0.009150  0.095657  0.006086   \n",
       "0         sp5000  0.076684  1.496915e+11  0.012833  0.113282  0.006786   \n",
       "\n",
       "       rmsle     nrmse  nrmse_eve     sMAPE            filename  \n",
       "0   0.064098  1.127606   1.316017  0.328799  Goiner-1H-18_1.csv  \n",
       "0   0.059618  0.773557   2.011139  0.188823  Goiner-1H-18_1.csv  \n",
       "0   0.051087  1.022274   0.939169  0.369157  Goiner-1H-18_1.csv  \n",
       "0   0.073144  0.915628   1.688187  0.250206  Goiner-1H-18_1.csv  \n",
       "0   0.044895  0.172673   0.332329  0.072919  Goiner-1H-18_1.csv  \n",
       "..       ...       ...        ...       ...                 ...  \n",
       "0   0.074966  0.811647   0.890296  0.240853   Goiner-1H-5_2.csv  \n",
       "0   0.067579  1.674651   2.334160  0.374766   Goiner-1H-5_2.csv  \n",
       "0   0.091720  0.956630   2.703961  0.220491   Goiner-1H-5_2.csv  \n",
       "0   0.078010  1.092409   1.446161  0.320083   Goiner-1H-5_2.csv  \n",
       "0   0.082375  0.368567   0.758214  0.130607   Goiner-1H-5_2.csv  \n",
       "\n",
       "[25453 rows x 11 columns]"
      ]
     },
     "execution_count": 6,
     "metadata": {},
     "output_type": "execute_result"
    }
   ],
   "source": [
    "metrics_all_files_df.to_csv(f'Results/timesfm/results/{dataset}/results_combined.csv')\n",
    "metrics_all_files_df"
   ]
  },
  {
   "cell_type": "code",
   "execution_count": 7,
   "id": "e08ba35d-6e78-4f3c-bbe7-fecc8e2609c3",
   "metadata": {
    "scrolled": true
   },
   "outputs": [
    {
     "data": {
      "text/html": [
       "<div>\n",
       "<style scoped>\n",
       "    .dataframe tbody tr th:only-of-type {\n",
       "        vertical-align: middle;\n",
       "    }\n",
       "\n",
       "    .dataframe tbody tr th {\n",
       "        vertical-align: top;\n",
       "    }\n",
       "\n",
       "    .dataframe thead th {\n",
       "        text-align: right;\n",
       "    }\n",
       "</style>\n",
       "<table border=\"1\" class=\"dataframe\">\n",
       "  <thead>\n",
       "    <tr style=\"text-align: right;\">\n",
       "      <th></th>\n",
       "      <th>mae</th>\n",
       "      <th>mape</th>\n",
       "      <th>mse</th>\n",
       "      <th>rmse</th>\n",
       "      <th>msle</th>\n",
       "      <th>rmsle</th>\n",
       "      <th>nrmse</th>\n",
       "      <th>nrmse_eve</th>\n",
       "      <th>sMAPE</th>\n",
       "    </tr>\n",
       "  </thead>\n",
       "  <tbody>\n",
       "    <tr>\n",
       "      <th>count</th>\n",
       "      <td>6100.000000</td>\n",
       "      <td>6.100000e+03</td>\n",
       "      <td>6100.000000</td>\n",
       "      <td>6100.000000</td>\n",
       "      <td>6100.000000</td>\n",
       "      <td>6100.000000</td>\n",
       "      <td>6100.000000</td>\n",
       "      <td>6100.000000</td>\n",
       "      <td>6100.000000</td>\n",
       "    </tr>\n",
       "    <tr>\n",
       "      <th>mean</th>\n",
       "      <td>6.022015</td>\n",
       "      <td>6.629337e+15</td>\n",
       "      <td>1.658319</td>\n",
       "      <td>11.156026</td>\n",
       "      <td>0.957853</td>\n",
       "      <td>8.646177</td>\n",
       "      <td>460.569350</td>\n",
       "      <td>403.522009</td>\n",
       "      <td>69.046145</td>\n",
       "    </tr>\n",
       "    <tr>\n",
       "      <th>std</th>\n",
       "      <td>5.023244</td>\n",
       "      <td>7.930139e+15</td>\n",
       "      <td>1.936931</td>\n",
       "      <td>6.485720</td>\n",
       "      <td>1.042635</td>\n",
       "      <td>4.623788</td>\n",
       "      <td>539.806708</td>\n",
       "      <td>544.044149</td>\n",
       "      <td>31.340040</td>\n",
       "    </tr>\n",
       "    <tr>\n",
       "      <th>min</th>\n",
       "      <td>0.190493</td>\n",
       "      <td>6.164835e+01</td>\n",
       "      <td>0.028807</td>\n",
       "      <td>1.697248</td>\n",
       "      <td>0.020551</td>\n",
       "      <td>1.433572</td>\n",
       "      <td>27.174250</td>\n",
       "      <td>94.742971</td>\n",
       "      <td>5.065342</td>\n",
       "    </tr>\n",
       "    <tr>\n",
       "      <th>25%</th>\n",
       "      <td>2.663323</td>\n",
       "      <td>1.042222e+13</td>\n",
       "      <td>0.380354</td>\n",
       "      <td>6.167289</td>\n",
       "      <td>0.274299</td>\n",
       "      <td>5.237360</td>\n",
       "      <td>171.322841</td>\n",
       "      <td>154.594265</td>\n",
       "      <td>41.562967</td>\n",
       "    </tr>\n",
       "    <tr>\n",
       "      <th>50%</th>\n",
       "      <td>3.687400</td>\n",
       "      <td>5.366843e+15</td>\n",
       "      <td>0.895053</td>\n",
       "      <td>9.460722</td>\n",
       "      <td>0.563652</td>\n",
       "      <td>7.507674</td>\n",
       "      <td>347.803124</td>\n",
       "      <td>272.300627</td>\n",
       "      <td>82.607916</td>\n",
       "    </tr>\n",
       "    <tr>\n",
       "      <th>75%</th>\n",
       "      <td>8.024713</td>\n",
       "      <td>1.018163e+16</td>\n",
       "      <td>1.988890</td>\n",
       "      <td>14.102803</td>\n",
       "      <td>1.164398</td>\n",
       "      <td>10.790729</td>\n",
       "      <td>528.963784</td>\n",
       "      <td>441.357407</td>\n",
       "      <td>96.069110</td>\n",
       "    </tr>\n",
       "    <tr>\n",
       "      <th>max</th>\n",
       "      <td>24.785014</td>\n",
       "      <td>4.221568e+16</td>\n",
       "      <td>10.134011</td>\n",
       "      <td>31.833962</td>\n",
       "      <td>5.518410</td>\n",
       "      <td>23.491297</td>\n",
       "      <td>3662.057459</td>\n",
       "      <td>4017.176364</td>\n",
       "      <td>99.827394</td>\n",
       "    </tr>\n",
       "  </tbody>\n",
       "</table>\n",
       "</div>"
      ],
      "text/plain": [
       "               mae          mape          mse         rmse         msle  \\\n",
       "count  6100.000000  6.100000e+03  6100.000000  6100.000000  6100.000000   \n",
       "mean      6.022015  6.629337e+15     1.658319    11.156026     0.957853   \n",
       "std       5.023244  7.930139e+15     1.936931     6.485720     1.042635   \n",
       "min       0.190493  6.164835e+01     0.028807     1.697248     0.020551   \n",
       "25%       2.663323  1.042222e+13     0.380354     6.167289     0.274299   \n",
       "50%       3.687400  5.366843e+15     0.895053     9.460722     0.563652   \n",
       "75%       8.024713  1.018163e+16     1.988890    14.102803     1.164398   \n",
       "max      24.785014  4.221568e+16    10.134011    31.833962     5.518410   \n",
       "\n",
       "             rmsle        nrmse    nrmse_eve        sMAPE  \n",
       "count  6100.000000  6100.000000  6100.000000  6100.000000  \n",
       "mean      8.646177   460.569350   403.522009    69.046145  \n",
       "std       4.623788   539.806708   544.044149    31.340040  \n",
       "min       1.433572    27.174250    94.742971     5.065342  \n",
       "25%       5.237360   171.322841   154.594265    41.562967  \n",
       "50%       7.507674   347.803124   272.300627    82.607916  \n",
       "75%      10.790729   528.963784   441.357407    96.069110  \n",
       "max      23.491297  3662.057459  4017.176364    99.827394  "
      ]
     },
     "execution_count": 7,
     "metadata": {},
     "output_type": "execute_result"
    }
   ],
   "source": [
    "metrics_all_files_df.describe()*100"
   ]
  },
  {
   "cell_type": "code",
   "execution_count": null,
   "id": "c35bb994-26df-45fe-b311-61f8582b72d5",
   "metadata": {},
   "outputs": [],
   "source": []
  },
  {
   "cell_type": "code",
   "execution_count": null,
   "id": "32168698-8b3a-47a0-854f-48aaf78a93dc",
   "metadata": {},
   "outputs": [],
   "source": []
  },
  {
   "cell_type": "code",
   "execution_count": null,
   "id": "a78a74ed-4a6b-45f4-9d31-2a41cd3aa902",
   "metadata": {},
   "outputs": [],
   "source": []
  }
 ],
 "metadata": {
  "kernelspec": {
   "display_name": "Python 3 (ipykernel)",
   "language": "python",
   "name": "python3"
  },
  "language_info": {
   "codemirror_mode": {
    "name": "ipython",
    "version": 3
   },
   "file_extension": ".py",
   "mimetype": "text/x-python",
   "name": "python",
   "nbconvert_exporter": "python",
   "pygments_lexer": "ipython3",
   "version": "3.10.16"
  }
 },
 "nbformat": 4,
 "nbformat_minor": 5
}
